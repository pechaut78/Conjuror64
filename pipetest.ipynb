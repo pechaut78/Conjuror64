{
 "cells": [
  {
   "cell_type": "code",
   "execution_count": 2,
   "metadata": {},
   "outputs": [
    {
     "name": "stdout",
     "output_type": "stream",
     "text": [
      "[{'atom': 'Input', 'params': {'input': 'documents/c64-prog-ref'}}, {'atom': 'CSVMerge', 'params': {'output': 'csv/merged_output.csv'}}, {'atom': 'CSVEnforceStr', 'params': {'output': 'csv/merged_output.csv'}}, {'atom': 'CSVAddContext', 'params': {'output': 'csv/merged_output.csv', 'context': 'In the context of the C64, '}}]\n",
      "[{'atom': 'Input', 'params': {'input': 'q-documents/'}}, {'atom': 'CSVMerge', 'params': {'output': 'csv/qmerged_output.csv'}}, {'atom': 'CSVEnforceStr', 'params': {'output': 'csv/qmerged_output.csv'}}, {'atom': 'CSVAddContext', 'params': {'output': 'csv/qmerged_output.csv', 'context': 'In the context of the C64, '}}]\n",
      "[{'atom': 'Input', 'params': {'input': 'csv'}}, {'atom': 'CSVMerge', 'params': {'output': 'dataset.csv'}}, {'atom': 'CSVllamaFormat', 'params': {'output': 'dataset.csv'}}, {'atom': 'HFDatasetUpload', 'params': {'input': 'dataset.csv', 'hf_path': 'Conjuror64/C64-inst-format', 'token_file': '.token'}}]\n",
      "<class 'datasetPipes.pipes.Input.Input'>\n",
      "{'ok': True, 'msg': 'Passing input', 'input': '', 'output': 'csv'}\n",
      "<class 'datasetPipes.pipes.CSVMerge.CSVMerge'>\n",
      "csv\n",
      "{'ok': True, 'msg': 'File dataset.csv created successfully!', 'input': 'csv', 'output': 'dataset.csv'}\n",
      "<class 'datasetPipes.pipes.CSVllamaFormat.CSVllamaFormat'>\n",
      "{'ok': True, 'msg': 'File dataset.csv created successfully!', 'input': 'dataset.csv', 'output': 'dataset.csv'}\n",
      "<class 'datasetPipes.pipes.HFDatasetUpload.HFDatasetUpload'>\n"
     ]
    },
    {
     "name": "stderr",
     "output_type": "stream",
     "text": [
      "Pushing dataset shards to the dataset hub: 100%|██████████| 1/1 [00:00<00:00, 14122.24it/s]\n",
      "Downloading metadata: 100%|██████████| 443/443 [00:00<00:00, 810kB/s]\n"
     ]
    },
    {
     "name": "stdout",
     "output_type": "stream",
     "text": [
      "{'ok': True, 'msg': 'Dataset uploaded to Hugging Face at Conjuror64/C64-inst-format successfully!', 'input': 'dataset.csv', 'output': ''}\n"
     ]
    },
    {
     "data": {
      "text/plain": [
       "{'ok': True,\n",
       " 'msg': 'Dataset uploaded to Hugging Face at Conjuror64/C64-inst-format successfully!',\n",
       " 'input': 'dataset.csv',\n",
       " 'output': ''}"
      ]
     },
     "execution_count": 2,
     "metadata": {},
     "output_type": "execute_result"
    }
   ],
   "source": [
    "import importlib\n",
    "import sys\n",
    "from datasetPipes.Tube import Tube\n",
    "importlib.reload(sys.modules['datasetPipes'])\n",
    "\n",
    "tube = Tube()\n",
    "tube.from_json(\"pipe_doc.json\")\n",
    "tube.from_json(\"pipe_qdoc.json\")\n",
    "tube.from_json(\"merge_upload_llama.json\")\n",
    "#tube.from_json(\"merge_upload_raw.json\")\n",
    "\n",
    "tube.run()"
   ]
  }
 ],
 "metadata": {
  "kernelspec": {
   "display_name": "Python 3",
   "language": "python",
   "name": "python3"
  },
  "language_info": {
   "codemirror_mode": {
    "name": "ipython",
    "version": 3
   },
   "file_extension": ".py",
   "mimetype": "text/x-python",
   "name": "python",
   "nbconvert_exporter": "python",
   "pygments_lexer": "ipython3",
   "version": "3.10.14"
  }
 },
 "nbformat": 4,
 "nbformat_minor": 2
}
